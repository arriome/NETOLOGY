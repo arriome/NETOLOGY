{
 "cells": [
  {
   "cell_type": "code",
   "execution_count": 73,
   "metadata": {},
   "outputs": [
    {
     "ename": "SyntaxError",
     "evalue": "invalid syntax (<ipython-input-73-2175036c6598>, line 21)",
     "output_type": "error",
     "traceback": [
      "\u001b[1;36m  File \u001b[1;32m\"<ipython-input-73-2175036c6598>\"\u001b[1;36m, line \u001b[1;32m21\u001b[0m\n\u001b[1;33m    def dynamics(fr1,fr2,fr3)\u001b[0m\n\u001b[1;37m                             ^\u001b[0m\n\u001b[1;31mSyntaxError\u001b[0m\u001b[1;31m:\u001b[0m invalid syntax\n"
     ]
    }
   ],
   "source": [
    "import pandas as pd\n",
    "import numpy as np\n",
    "import matplotlib.pyplot as plt# libarty import\n",
    "\n",
    "# JOB 1.  \n",
    "\n",
    "fr1 = pd.read_csv('yob1900.txt',names = ['Name','Sex','Count'])\n",
    "fr2 = pd.read_csv('yob1950.txt',names = ['Name','Sex','Count'])\n",
    "fr3 = pd.read_csv('yob2000.txt',names = ['Name','Sex','Count'])\n",
    "# print(fr)\n",
    "# print(fr3[fr.Count > 20000])\n",
    "fr = pd.concat([fr1,fr2,fr3])                                              \n",
    "fr_group = fr.groupby(['Name','Sex'],as_index= False).sum()              # Grup by Name and Sex\n",
    "fr_name = fr_group['Name'].value_counts()                                       # Count by Name\n",
    "#print(fr_name)\n",
    "print('Первые три самых частых имени:',fr_name.head(3))\n",
    "fr_name.to_csv('Names_result.txt', index=False)                         # Write result file.  \n",
    "\n",
    "# JOB 2.  \n",
    "\n",
    "def dynamics(fr1,fr2,fr3):\n",
    "    pass\n",
    "    #count_dynamics([1900, 1950, 2000]) == {'F': [299810, 1713259, 1814922],'M': [150486, 1790871, 1962744]}\n",
    "\n",
    "# Результат выполнения\n",
    "# Первые три самых частых имени: Laine      2\n",
    "# Rayn       2\n",
    "# Deondra    2\n",
    "# Name: Name, dtype: int64\n",
    "    "
   ]
  },
  {
   "cell_type": "code",
   "execution_count": null,
   "metadata": {},
   "outputs": [],
   "source": []
  },
  {
   "cell_type": "code",
   "execution_count": null,
   "metadata": {},
   "outputs": [],
   "source": []
  }
 ],
 "metadata": {
  "kernelspec": {
   "display_name": "Python 3",
   "language": "python",
   "name": "python3"
  },
  "language_info": {
   "codemirror_mode": {
    "name": "ipython",
    "version": 3
   },
   "file_extension": ".py",
   "mimetype": "text/x-python",
   "name": "python",
   "nbconvert_exporter": "python",
   "pygments_lexer": "ipython3",
   "version": "3.6.6"
  }
 },
 "nbformat": 4,
 "nbformat_minor": 2
}
